{
 "cells": [
  {
   "cell_type": "markdown",
   "metadata": {},
   "source": [
    "Kalman filter\n",
    "\n",
    "Prediction step:\n",
    "\\begin{align}\n",
    "x' & = F\\hat{x} + Bu + v \\\\\n",
    "P' & = F\\hat{P}F^T + Q \\\\\n",
    "\\end{align}\n",
    "\n",
    "Where:\n",
    "- x' - predicted value\n",
    "- F - state transition matrix\n",
    "- B - control input matrix\n",
    "- u - control vector\n",
    "- v - process noise, can be equal 0\n",
    "- P' - predicted covariance\n",
    "- Q - noise\n",
    "\n",
    "\n",
    "Measurement update:\n",
    "\\begin{align}\n",
    "y & = z - Hx' \\\\\n",
    "S & = HP'H^T + R \\\\\n",
    "K & = P'H^TS^{-1} \\\\\n",
    "x & = x' + Ky \\\\\n",
    "P & = (I - KH)P' \\\\\n",
    "\\end{align}\n",
    "\n",
    "Where:\n",
    "- z - actual measurement \n",
    "- H - state transition matrix \n",
    "- y - difference between measured value and actual value\n",
    "- R - measurement noise\n",
    "- K - Kalman gain\n",
    "- S - total error\n"
   ]
  },
  {
   "cell_type": "code",
   "execution_count": 13,
   "metadata": {},
   "outputs": [],
   "source": [
    "import numpy as np\n",
    "from numpy.linalg import inv\n",
    "\n",
    "class KalmanFilter:\n",
    "    def __init__(self, dim_x, dim_z):\n",
    "        self.x = np.zeros((dim_x, 1)) \n",
    "        self.P = np.eye(dim_x)           \n",
    "        self.Q = np.eye(dim_x)             \n",
    "        self.B = 0                    \n",
    "        self.F = np.eye(dim_x)              \n",
    "        self.H = np.zeros((dim_z, dim_x))    \n",
    "        self.R = np.eye(dim_z)               \n",
    "        self.M = np.zeros((dim_x, dim_z)) \n",
    "        self.z = np.array([[None]*dim_z]).T\n",
    "        self.I = np.eye(dim_x)\n",
    "\n",
    "    def predict(self, u=0):\n",
    "        if u == 0:\n",
    "            self.x = self.F @ self.x\n",
    "        else:\n",
    "            self.x = self.F @ self.x + self.B @ u\n",
    "        self.P = self.F @ self.P @ self.F.T + self.Q\n",
    "\n",
    "        return self.x.copy(), self.P.copy()\n",
    "\n",
    "    def update(self, z):\n",
    "        y = z - self.H @ self.x\n",
    "        S = self.H @ self.P @ self.H.T + self.R\n",
    "        K = self.P @ self.H.T @ inv(S)\n",
    "        self.x = self.x + K @ y\n",
    "        self.P = (self.I - K @ self.H) @ self.P\n",
    "        return self.x.copy(), self.P.copy()"
   ]
  },
  {
   "cell_type": "markdown",
   "metadata": {},
   "source": [
    "Example"
   ]
  },
  {
   "cell_type": "code",
   "execution_count": 62,
   "metadata": {},
   "outputs": [
    {
     "output_type": "stream",
     "name": "stdout",
     "text": "[0.1 0.1 0.1 0.1] [0.48881358 0.29441651 0.70161516 0.40082262]\n[0.78323009 0.29441651 1.10243778 0.40082262] [1.7439967  0.72144583 1.59228263 0.61854263]\n[2.46544253 0.72144583 2.21082526 0.61854263] [2.6826649  0.79747912 2.80932352 0.82803205]\n[3.48014402 0.79747912 3.63735557 0.82803205] [3.90317371 0.91728992 4.2180103  0.99248554]\n[4.82046363 0.91728992 5.21049584 0.99248554] [5.26550445 1.02271766 5.28462602 1.01004658]\n[6.28822211 1.02271766 6.2946726  1.01004658] [6.30721951 1.02658302 6.28789679 1.00866792]\n[7.33380253 1.02658302 7.2965647  1.00866792] [7.55745374 1.06647208 7.5720603  1.05780362]\n[8.62392582 1.06647208 8.62986392 1.05780362] [8.80263425 1.09485742 8.67180391 1.0644652 ]\n[9.89749166 1.09485742 9.73626911 1.0644652 ] [9.81497406 1.08303704 9.72920629 1.06345347]\n[10.8980111   1.08303704 10.79265976  1.06345347] [10.9127475   1.08496038 10.77116307  1.0606478 ]\n"
    }
   ],
   "source": [
    "import random\n",
    "import numpy as np\n",
    "\n",
    "\n",
    "def rand():\n",
    "    return random.random() - 0.5\n",
    "\n",
    "\n",
    "def get_measuerment(x, factor=0.1):\n",
    "    z = [\n",
    "        x[0] + rand() * factor,\n",
    "        x[2] + rand() * factor,\n",
    "    ]\n",
    "    return z\n",
    "\n",
    "\n",
    "class SensorSim:\n",
    "    def __init__(self, x=0, y=0, dx=0.1, dy=0.1):\n",
    "        self.x = x\n",
    "        self.y = y\n",
    "        self.dx = dx\n",
    "        self.dy = dy\n",
    "\n",
    "    def sense(self, dt=1):\n",
    "        self.x += self.dx + dt\n",
    "        self.y += self.dy + dt\n",
    "        return self.x, self.y\n",
    "\n",
    "    def sense_with_noise(self, dt=1, noise_factor=0.1):\n",
    "        sens = self.sense(dt)\n",
    "        z = [\n",
    "            sens[0] + rand() * noise_factor,\n",
    "            sens[1] + rand() * noise_factor,\n",
    "        ]\n",
    "        return z\n",
    "\n",
    "    def get_real(self):\n",
    "        return self.x, self.y\n",
    "\n",
    "\n",
    "def get_kalman_filter(dt=1, p_magnitude=10, q_noise=1):\n",
    "    kf = KalmanFilter(4, 2)\n",
    "    kf.P = kf.P * p_magnitude\n",
    "    kf.x = np.asarray([0, 0.1, 0, 0.1])\n",
    "    kf.F = np.array([[1, dt, 0,  0],\n",
    "                     [0,  1, 0,  0],\n",
    "                     [0,  0, 1, dt],\n",
    "                     [0,  0, 0,  1]])\n",
    "    kf.Q = [[0, 0.001*q_noise, 0, 0],\n",
    "            [0.001*q_noise, 0.001*q_noise, 0, 0],\n",
    "            [0, 0, 0, 0.001*q_noise],\n",
    "            [0, 0, 0.001*q_noise, 0.001*q_noise]]\n",
    "\n",
    "    kf.H = np.array([[1, 0, 0, 0],\n",
    "                     [0, 0, 1, 0]])\n",
    "\n",
    "    kf.R = np.array([[5., 0],\n",
    "                     [0, 5]])\n",
    "\n",
    "    return kf\n",
    "\n",
    "\n",
    "kf = get_kalman_filter(p_magnitude=2, q_noise=0.1)\n",
    "\n",
    "xs = list()\n",
    "rxs = list()\n",
    "zs = list()\n",
    "\n",
    "s = SensorSim()\n",
    "\n",
    "for _ in range(10):\n",
    "    x_pred, _ = kf.predict()\n",
    "    z = s.sense_with_noise(noise_factor=.9)\n",
    "    rx = s.get_real()\n",
    "    x_update, _ = kf.update(z)\n",
    "    xs.append(x_update)\n",
    "    zs.append(z)\n",
    "    rxs.append(rx)\n",
    "    print(x_pred, x_update)\n",
    "xs = np.array(xs)\n",
    "zs = np.array(zs)\n",
    "rxs = np.array(rxs)\n"
   ]
  },
  {
   "cell_type": "code",
   "execution_count": 63,
   "metadata": {},
   "outputs": [
    {
     "output_type": "display_data",
     "data": {
      "text/plain": "<Figure size 432x288 with 1 Axes>",
      "image/svg+xml": "<?xml version=\"1.0\" encoding=\"utf-8\" standalone=\"no\"?>\n<!DOCTYPE svg PUBLIC \"-//W3C//DTD SVG 1.1//EN\"\n  \"http://www.w3.org/Graphics/SVG/1.1/DTD/svg11.dtd\">\n<!-- Created with matplotlib (https://matplotlib.org/) -->\n<svg height=\"248.518125pt\" version=\"1.1\" viewBox=\"0 0 368.925 248.518125\" width=\"368.925pt\" xmlns=\"http://www.w3.org/2000/svg\" xmlns:xlink=\"http://www.w3.org/1999/xlink\">\n <defs>\n  <style type=\"text/css\">\n*{stroke-linecap:butt;stroke-linejoin:round;}\n  </style>\n </defs>\n <g id=\"figure_1\">\n  <g id=\"patch_1\">\n   <path d=\"M -0 248.518125 \nL 368.925 248.518125 \nL 368.925 0 \nL -0 0 \nz\n\" style=\"fill:none;\"/>\n  </g>\n  <g id=\"axes_1\">\n   <g id=\"patch_2\">\n    <path d=\"M 26.925 224.64 \nL 361.725 224.64 \nL 361.725 7.2 \nL 26.925 7.2 \nz\n\" style=\"fill:#ffffff;\"/>\n   </g>\n   <g id=\"matplotlib.axis_1\">\n    <g id=\"xtick_1\">\n     <g id=\"line2d_1\">\n      <path clip-path=\"url(#pf35e3e38ea)\" d=\"M 27.989016 224.64 \nL 27.989016 7.2 \n\" style=\"fill:none;stroke:#b0b0b0;stroke-linecap:square;stroke-width:0.8;\"/>\n     </g>\n     <g id=\"line2d_2\">\n      <defs>\n       <path d=\"M 0 0 \nL 0 3.5 \n\" id=\"mfb458a824b\" style=\"stroke:#000000;stroke-width:0.8;\"/>\n      </defs>\n      <g>\n       <use style=\"stroke:#000000;stroke-width:0.8;\" x=\"27.989016\" xlink:href=\"#mfb458a824b\" y=\"224.64\"/>\n      </g>\n     </g>\n     <g id=\"text_1\">\n      <!-- 0 -->\n      <defs>\n       <path d=\"M 31.78125 66.40625 \nQ 24.171875 66.40625 20.328125 58.90625 \nQ 16.5 51.421875 16.5 36.375 \nQ 16.5 21.390625 20.328125 13.890625 \nQ 24.171875 6.390625 31.78125 6.390625 \nQ 39.453125 6.390625 43.28125 13.890625 \nQ 47.125 21.390625 47.125 36.375 \nQ 47.125 51.421875 43.28125 58.90625 \nQ 39.453125 66.40625 31.78125 66.40625 \nz\nM 31.78125 74.21875 \nQ 44.046875 74.21875 50.515625 64.515625 \nQ 56.984375 54.828125 56.984375 36.375 \nQ 56.984375 17.96875 50.515625 8.265625 \nQ 44.046875 -1.421875 31.78125 -1.421875 \nQ 19.53125 -1.421875 13.0625 8.265625 \nQ 6.59375 17.96875 6.59375 36.375 \nQ 6.59375 54.828125 13.0625 64.515625 \nQ 19.53125 74.21875 31.78125 74.21875 \nz\n\" id=\"DejaVuSans-48\"/>\n      </defs>\n      <g transform=\"translate(24.807766 239.238438)scale(0.1 -0.1)\">\n       <use xlink:href=\"#DejaVuSans-48\"/>\n      </g>\n     </g>\n    </g>\n    <g id=\"xtick_2\">\n     <g id=\"line2d_3\">\n      <path clip-path=\"url(#pf35e3e38ea)\" d=\"M 85.901343 224.64 \nL 85.901343 7.2 \n\" style=\"fill:none;stroke:#b0b0b0;stroke-linecap:square;stroke-width:0.8;\"/>\n     </g>\n     <g id=\"line2d_4\">\n      <g>\n       <use style=\"stroke:#000000;stroke-width:0.8;\" x=\"85.901343\" xlink:href=\"#mfb458a824b\" y=\"224.64\"/>\n      </g>\n     </g>\n     <g id=\"text_2\">\n      <!-- 2 -->\n      <defs>\n       <path d=\"M 19.1875 8.296875 \nL 53.609375 8.296875 \nL 53.609375 0 \nL 7.328125 0 \nL 7.328125 8.296875 \nQ 12.9375 14.109375 22.625 23.890625 \nQ 32.328125 33.6875 34.8125 36.53125 \nQ 39.546875 41.84375 41.421875 45.53125 \nQ 43.3125 49.21875 43.3125 52.78125 \nQ 43.3125 58.59375 39.234375 62.25 \nQ 35.15625 65.921875 28.609375 65.921875 \nQ 23.96875 65.921875 18.8125 64.3125 \nQ 13.671875 62.703125 7.8125 59.421875 \nL 7.8125 69.390625 \nQ 13.765625 71.78125 18.9375 73 \nQ 24.125 74.21875 28.421875 74.21875 \nQ 39.75 74.21875 46.484375 68.546875 \nQ 53.21875 62.890625 53.21875 53.421875 \nQ 53.21875 48.921875 51.53125 44.890625 \nQ 49.859375 40.875 45.40625 35.40625 \nQ 44.1875 33.984375 37.640625 27.21875 \nQ 31.109375 20.453125 19.1875 8.296875 \nz\n\" id=\"DejaVuSans-50\"/>\n      </defs>\n      <g transform=\"translate(82.720093 239.238438)scale(0.1 -0.1)\">\n       <use xlink:href=\"#DejaVuSans-50\"/>\n      </g>\n     </g>\n    </g>\n    <g id=\"xtick_3\">\n     <g id=\"line2d_5\">\n      <path clip-path=\"url(#pf35e3e38ea)\" d=\"M 143.813671 224.64 \nL 143.813671 7.2 \n\" style=\"fill:none;stroke:#b0b0b0;stroke-linecap:square;stroke-width:0.8;\"/>\n     </g>\n     <g id=\"line2d_6\">\n      <g>\n       <use style=\"stroke:#000000;stroke-width:0.8;\" x=\"143.813671\" xlink:href=\"#mfb458a824b\" y=\"224.64\"/>\n      </g>\n     </g>\n     <g id=\"text_3\">\n      <!-- 4 -->\n      <defs>\n       <path d=\"M 37.796875 64.3125 \nL 12.890625 25.390625 \nL 37.796875 25.390625 \nz\nM 35.203125 72.90625 \nL 47.609375 72.90625 \nL 47.609375 25.390625 \nL 58.015625 25.390625 \nL 58.015625 17.1875 \nL 47.609375 17.1875 \nL 47.609375 0 \nL 37.796875 0 \nL 37.796875 17.1875 \nL 4.890625 17.1875 \nL 4.890625 26.703125 \nz\n\" id=\"DejaVuSans-52\"/>\n      </defs>\n      <g transform=\"translate(140.632421 239.238438)scale(0.1 -0.1)\">\n       <use xlink:href=\"#DejaVuSans-52\"/>\n      </g>\n     </g>\n    </g>\n    <g id=\"xtick_4\">\n     <g id=\"line2d_7\">\n      <path clip-path=\"url(#pf35e3e38ea)\" d=\"M 201.725999 224.64 \nL 201.725999 7.2 \n\" style=\"fill:none;stroke:#b0b0b0;stroke-linecap:square;stroke-width:0.8;\"/>\n     </g>\n     <g id=\"line2d_8\">\n      <g>\n       <use style=\"stroke:#000000;stroke-width:0.8;\" x=\"201.725999\" xlink:href=\"#mfb458a824b\" y=\"224.64\"/>\n      </g>\n     </g>\n     <g id=\"text_4\">\n      <!-- 6 -->\n      <defs>\n       <path d=\"M 33.015625 40.375 \nQ 26.375 40.375 22.484375 35.828125 \nQ 18.609375 31.296875 18.609375 23.390625 \nQ 18.609375 15.53125 22.484375 10.953125 \nQ 26.375 6.390625 33.015625 6.390625 \nQ 39.65625 6.390625 43.53125 10.953125 \nQ 47.40625 15.53125 47.40625 23.390625 \nQ 47.40625 31.296875 43.53125 35.828125 \nQ 39.65625 40.375 33.015625 40.375 \nz\nM 52.59375 71.296875 \nL 52.59375 62.3125 \nQ 48.875 64.0625 45.09375 64.984375 \nQ 41.3125 65.921875 37.59375 65.921875 \nQ 27.828125 65.921875 22.671875 59.328125 \nQ 17.53125 52.734375 16.796875 39.40625 \nQ 19.671875 43.65625 24.015625 45.921875 \nQ 28.375 48.1875 33.59375 48.1875 \nQ 44.578125 48.1875 50.953125 41.515625 \nQ 57.328125 34.859375 57.328125 23.390625 \nQ 57.328125 12.15625 50.6875 5.359375 \nQ 44.046875 -1.421875 33.015625 -1.421875 \nQ 20.359375 -1.421875 13.671875 8.265625 \nQ 6.984375 17.96875 6.984375 36.375 \nQ 6.984375 53.65625 15.1875 63.9375 \nQ 23.390625 74.21875 37.203125 74.21875 \nQ 40.921875 74.21875 44.703125 73.484375 \nQ 48.484375 72.75 52.59375 71.296875 \nz\n\" id=\"DejaVuSans-54\"/>\n      </defs>\n      <g transform=\"translate(198.544749 239.238438)scale(0.1 -0.1)\">\n       <use xlink:href=\"#DejaVuSans-54\"/>\n      </g>\n     </g>\n    </g>\n    <g id=\"xtick_5\">\n     <g id=\"line2d_9\">\n      <path clip-path=\"url(#pf35e3e38ea)\" d=\"M 259.638327 224.64 \nL 259.638327 7.2 \n\" style=\"fill:none;stroke:#b0b0b0;stroke-linecap:square;stroke-width:0.8;\"/>\n     </g>\n     <g id=\"line2d_10\">\n      <g>\n       <use style=\"stroke:#000000;stroke-width:0.8;\" x=\"259.638327\" xlink:href=\"#mfb458a824b\" y=\"224.64\"/>\n      </g>\n     </g>\n     <g id=\"text_5\">\n      <!-- 8 -->\n      <defs>\n       <path d=\"M 31.78125 34.625 \nQ 24.75 34.625 20.71875 30.859375 \nQ 16.703125 27.09375 16.703125 20.515625 \nQ 16.703125 13.921875 20.71875 10.15625 \nQ 24.75 6.390625 31.78125 6.390625 \nQ 38.8125 6.390625 42.859375 10.171875 \nQ 46.921875 13.96875 46.921875 20.515625 \nQ 46.921875 27.09375 42.890625 30.859375 \nQ 38.875 34.625 31.78125 34.625 \nz\nM 21.921875 38.8125 \nQ 15.578125 40.375 12.03125 44.71875 \nQ 8.5 49.078125 8.5 55.328125 \nQ 8.5 64.0625 14.71875 69.140625 \nQ 20.953125 74.21875 31.78125 74.21875 \nQ 42.671875 74.21875 48.875 69.140625 \nQ 55.078125 64.0625 55.078125 55.328125 \nQ 55.078125 49.078125 51.53125 44.71875 \nQ 48 40.375 41.703125 38.8125 \nQ 48.828125 37.15625 52.796875 32.3125 \nQ 56.78125 27.484375 56.78125 20.515625 \nQ 56.78125 9.90625 50.3125 4.234375 \nQ 43.84375 -1.421875 31.78125 -1.421875 \nQ 19.734375 -1.421875 13.25 4.234375 \nQ 6.78125 9.90625 6.78125 20.515625 \nQ 6.78125 27.484375 10.78125 32.3125 \nQ 14.796875 37.15625 21.921875 38.8125 \nz\nM 18.3125 54.390625 \nQ 18.3125 48.734375 21.84375 45.5625 \nQ 25.390625 42.390625 31.78125 42.390625 \nQ 38.140625 42.390625 41.71875 45.5625 \nQ 45.3125 48.734375 45.3125 54.390625 \nQ 45.3125 60.0625 41.71875 63.234375 \nQ 38.140625 66.40625 31.78125 66.40625 \nQ 25.390625 66.40625 21.84375 63.234375 \nQ 18.3125 60.0625 18.3125 54.390625 \nz\n\" id=\"DejaVuSans-56\"/>\n      </defs>\n      <g transform=\"translate(256.457077 239.238438)scale(0.1 -0.1)\">\n       <use xlink:href=\"#DejaVuSans-56\"/>\n      </g>\n     </g>\n    </g>\n    <g id=\"xtick_6\">\n     <g id=\"line2d_11\">\n      <path clip-path=\"url(#pf35e3e38ea)\" d=\"M 317.550654 224.64 \nL 317.550654 7.2 \n\" style=\"fill:none;stroke:#b0b0b0;stroke-linecap:square;stroke-width:0.8;\"/>\n     </g>\n     <g id=\"line2d_12\">\n      <g>\n       <use style=\"stroke:#000000;stroke-width:0.8;\" x=\"317.550654\" xlink:href=\"#mfb458a824b\" y=\"224.64\"/>\n      </g>\n     </g>\n     <g id=\"text_6\">\n      <!-- 10 -->\n      <defs>\n       <path d=\"M 12.40625 8.296875 \nL 28.515625 8.296875 \nL 28.515625 63.921875 \nL 10.984375 60.40625 \nL 10.984375 69.390625 \nL 28.421875 72.90625 \nL 38.28125 72.90625 \nL 38.28125 8.296875 \nL 54.390625 8.296875 \nL 54.390625 0 \nL 12.40625 0 \nz\n\" id=\"DejaVuSans-49\"/>\n      </defs>\n      <g transform=\"translate(311.188154 239.238438)scale(0.1 -0.1)\">\n       <use xlink:href=\"#DejaVuSans-49\"/>\n       <use x=\"63.623047\" xlink:href=\"#DejaVuSans-48\"/>\n      </g>\n     </g>\n    </g>\n   </g>\n   <g id=\"matplotlib.axis_2\">\n    <g id=\"ytick_1\">\n     <g id=\"line2d_13\">\n      <path clip-path=\"url(#pf35e3e38ea)\" d=\"M 26.925 189.834468 \nL 361.725 189.834468 \n\" style=\"fill:none;stroke:#b0b0b0;stroke-linecap:square;stroke-width:0.8;\"/>\n     </g>\n     <g id=\"line2d_14\">\n      <defs>\n       <path d=\"M 0 0 \nL -3.5 0 \n\" id=\"m0ea285d83c\" style=\"stroke:#000000;stroke-width:0.8;\"/>\n      </defs>\n      <g>\n       <use style=\"stroke:#000000;stroke-width:0.8;\" x=\"26.925\" xlink:href=\"#m0ea285d83c\" y=\"189.834468\"/>\n      </g>\n     </g>\n     <g id=\"text_7\">\n      <!-- 2 -->\n      <g transform=\"translate(13.5625 193.633687)scale(0.1 -0.1)\">\n       <use xlink:href=\"#DejaVuSans-50\"/>\n      </g>\n     </g>\n    </g>\n    <g id=\"ytick_2\">\n     <g id=\"line2d_15\">\n      <path clip-path=\"url(#pf35e3e38ea)\" d=\"M 26.925 151.445394 \nL 361.725 151.445394 \n\" style=\"fill:none;stroke:#b0b0b0;stroke-linecap:square;stroke-width:0.8;\"/>\n     </g>\n     <g id=\"line2d_16\">\n      <g>\n       <use style=\"stroke:#000000;stroke-width:0.8;\" x=\"26.925\" xlink:href=\"#m0ea285d83c\" y=\"151.445394\"/>\n      </g>\n     </g>\n     <g id=\"text_8\">\n      <!-- 4 -->\n      <g transform=\"translate(13.5625 155.244613)scale(0.1 -0.1)\">\n       <use xlink:href=\"#DejaVuSans-52\"/>\n      </g>\n     </g>\n    </g>\n    <g id=\"ytick_3\">\n     <g id=\"line2d_17\">\n      <path clip-path=\"url(#pf35e3e38ea)\" d=\"M 26.925 113.056321 \nL 361.725 113.056321 \n\" style=\"fill:none;stroke:#b0b0b0;stroke-linecap:square;stroke-width:0.8;\"/>\n     </g>\n     <g id=\"line2d_18\">\n      <g>\n       <use style=\"stroke:#000000;stroke-width:0.8;\" x=\"26.925\" xlink:href=\"#m0ea285d83c\" y=\"113.056321\"/>\n      </g>\n     </g>\n     <g id=\"text_9\">\n      <!-- 6 -->\n      <g transform=\"translate(13.5625 116.855539)scale(0.1 -0.1)\">\n       <use xlink:href=\"#DejaVuSans-54\"/>\n      </g>\n     </g>\n    </g>\n    <g id=\"ytick_4\">\n     <g id=\"line2d_19\">\n      <path clip-path=\"url(#pf35e3e38ea)\" d=\"M 26.925 74.667247 \nL 361.725 74.667247 \n\" style=\"fill:none;stroke:#b0b0b0;stroke-linecap:square;stroke-width:0.8;\"/>\n     </g>\n     <g id=\"line2d_20\">\n      <g>\n       <use style=\"stroke:#000000;stroke-width:0.8;\" x=\"26.925\" xlink:href=\"#m0ea285d83c\" y=\"74.667247\"/>\n      </g>\n     </g>\n     <g id=\"text_10\">\n      <!-- 8 -->\n      <g transform=\"translate(13.5625 78.466466)scale(0.1 -0.1)\">\n       <use xlink:href=\"#DejaVuSans-56\"/>\n      </g>\n     </g>\n    </g>\n    <g id=\"ytick_5\">\n     <g id=\"line2d_21\">\n      <path clip-path=\"url(#pf35e3e38ea)\" d=\"M 26.925 36.278173 \nL 361.725 36.278173 \n\" style=\"fill:none;stroke:#b0b0b0;stroke-linecap:square;stroke-width:0.8;\"/>\n     </g>\n     <g id=\"line2d_22\">\n      <g>\n       <use style=\"stroke:#000000;stroke-width:0.8;\" x=\"26.925\" xlink:href=\"#m0ea285d83c\" y=\"36.278173\"/>\n      </g>\n     </g>\n     <g id=\"text_11\">\n      <!-- 10 -->\n      <g transform=\"translate(7.2 40.077392)scale(0.1 -0.1)\">\n       <use xlink:href=\"#DejaVuSans-49\"/>\n       <use x=\"63.623047\" xlink:href=\"#DejaVuSans-48\"/>\n      </g>\n     </g>\n    </g>\n   </g>\n   <g id=\"line2d_23\">\n    <path clip-path=\"url(#pf35e3e38ea)\" d=\"M 42.143182 214.756364 \nL 78.48847 197.660414 \nL 105.6687 174.299878 \nL 141.009953 147.260788 \nL 180.457825 126.787593 \nL 210.621897 107.530275 \nL 246.823885 82.881351 \nL 282.879535 61.772282 \nL 312.193013 41.475933 \nL 343.98032 21.476055 \n\" style=\"fill:none;stroke:#1f77b4;stroke-linecap:square;stroke-width:1.5;\"/>\n   </g>\n   <g id=\"line2d_24\">\n    <path clip-path=\"url(#pf35e3e38ea)\" d=\"M 59.840796 207.109551 \nL 91.692576 185.995561 \nL 123.544356 164.88157 \nL 155.396137 143.76758 \nL 187.247917 122.653589 \nL 219.099697 101.539599 \nL 250.951477 80.425608 \nL 282.803258 59.311617 \nL 314.655038 38.197627 \nL 346.506818 17.083636 \n\" style=\"fill:none;stroke:#ff7f0e;stroke-linecap:square;stroke-width:1.5;\"/>\n   </g>\n   <g id=\"line2d_25\">\n    <defs>\n     <path d=\"M 0 3 \nC 0.795609 3 1.55874 2.683901 2.12132 2.12132 \nC 2.683901 1.55874 3 0.795609 3 0 \nC 3 -0.795609 2.683901 -1.55874 2.12132 -2.12132 \nC 1.55874 -2.683901 0.795609 -3 0 -3 \nC -0.795609 -3 -1.55874 -2.683901 -2.12132 -2.12132 \nC -2.683901 -1.55874 -3 -0.795609 -3 0 \nC -3 0.795609 -2.683901 1.55874 -2.12132 2.12132 \nC -1.55874 2.683901 -0.795609 3 0 3 \nz\n\" id=\"mee544d37d7\" style=\"stroke:#2ca02c;\"/>\n    </defs>\n    <g clip-path=\"url(#pf35e3e38ea)\">\n     <use style=\"fill:#2ca02c;stroke:#2ca02c;\" x=\"56.216369\" xlink:href=\"#mee544d37d7\" y=\"200.321708\"/>\n     <use style=\"fill:#2ca02c;stroke:#2ca02c;\" x=\"101.671255\" xlink:href=\"#mee544d37d7\" y=\"189.825344\"/>\n     <use style=\"fill:#2ca02c;stroke:#2ca02c;\" x=\"110.857673\" xlink:href=\"#mee544d37d7\" y=\"164.822758\"/>\n     <use style=\"fill:#2ca02c;stroke:#2ca02c;\" x=\"152.879164\" xlink:href=\"#mee544d37d7\" y=\"136.46124\"/>\n     <use style=\"fill:#2ca02c;stroke:#2ca02c;\" x=\"195.547376\" xlink:href=\"#mee544d37d7\" y=\"125.121466\"/>\n     <use style=\"fill:#2ca02c;stroke:#2ca02c;\" x=\"211.390973\" xlink:href=\"#mee544d37d7\" y=\"107.712108\"/>\n     <use style=\"fill:#2ca02c;stroke:#2ca02c;\" x=\"257.427274\" xlink:href=\"#mee544d37d7\" y=\"74.223209\"/>\n     <use style=\"fill:#2ca02c;stroke:#2ca02c;\" x=\"292.622084\" xlink:href=\"#mee544d37d7\" y=\"60.256654\"/>\n     <use style=\"fill:#2ca02c;stroke:#2ca02c;\" x=\"307.100338\" xlink:href=\"#mee544d37d7\" y=\"41.764877\"/>\n     <use style=\"fill:#2ca02c;stroke:#2ca02c;\" x=\"344.996596\" xlink:href=\"#mee544d37d7\" y=\"22.458772\"/>\n    </g>\n   </g>\n   <g id=\"patch_3\">\n    <path d=\"M 26.925 224.64 \nL 26.925 7.2 \n\" style=\"fill:none;stroke:#000000;stroke-linecap:square;stroke-linejoin:miter;stroke-width:0.8;\"/>\n   </g>\n   <g id=\"patch_4\">\n    <path d=\"M 361.725 224.64 \nL 361.725 7.2 \n\" style=\"fill:none;stroke:#000000;stroke-linecap:square;stroke-linejoin:miter;stroke-width:0.8;\"/>\n   </g>\n   <g id=\"patch_5\">\n    <path d=\"M 26.925 224.64 \nL 361.725 224.64 \n\" style=\"fill:none;stroke:#000000;stroke-linecap:square;stroke-linejoin:miter;stroke-width:0.8;\"/>\n   </g>\n   <g id=\"patch_6\">\n    <path d=\"M 26.925 7.2 \nL 361.725 7.2 \n\" style=\"fill:none;stroke:#000000;stroke-linecap:square;stroke-linejoin:miter;stroke-width:0.8;\"/>\n   </g>\n  </g>\n </g>\n <defs>\n  <clipPath id=\"pf35e3e38ea\">\n   <rect height=\"217.44\" width=\"334.8\" x=\"26.925\" y=\"7.2\"/>\n  </clipPath>\n </defs>\n</svg>\n",
      "image/png": "[encoded data removed]"
     },
     "metadata": {
      "needs_background": "light"
     }
    }
   ],
   "source": [
    "import matplotlib.pyplot as plt\n",
    "%matplotlib inline\n",
    "fig = plt.figure()\n",
    "ax = plt.axes()\n",
    "ax.plot(xs[:, 0], xs[:, 2])\n",
    "ax.plot(rxs[:, 0], rxs[:, 1])\n",
    "ax.plot(zs[:, 0], zs[:, 1], 'o')\n",
    "plt.grid()\n",
    "plt.show()"
   ]
  },
  {
   "cell_type": "markdown",
   "metadata": {},
   "source": [
    "References: <br>\n",
    "1) [Kalman Filter Interview](https://towardsdatascience.com/kalman-filter-interview-bdc39f3e6cf3) <br>\n",
    "2) [Kalman Filter book](https://github.com/rlabbe/Kalman-and-Bayesian-Filters-in-Python) <br>"
   ]
  }
 ],
 "metadata": {
  "language_info": {
   "codemirror_mode": {
    "name": "ipython",
    "version": 3
   },
   "file_extension": ".py",
   "mimetype": "text/x-python",
   "name": "python",
   "nbconvert_exporter": "python",
   "pygments_lexer": "ipython3",
   "version": "3.6.10-final"
  },
  "orig_nbformat": 2,
  "kernelspec": {
   "name": "python361064bit4245498dcbb84f12a0801c0b2d67e844",
   "display_name": "Python 3.6.10 64-bit"
  }
 },
 "nbformat": 4,
 "nbformat_minor": 2
}